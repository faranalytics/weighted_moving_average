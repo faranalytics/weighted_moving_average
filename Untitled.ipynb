{
 "cells": [
  {
   "cell_type": "code",
   "execution_count": 3,
   "id": "392eaeef-fe12-4db1-b067-0faa209ab12e",
   "metadata": {},
   "outputs": [
    {
     "data": {
      "text/plain": [
       "array([1.00000000e+00, 1.52631579e+00, 2.07407407e+00, ...,\n",
       "       9.99995000e+05, 9.99996000e+05, 9.99997000e+05])"
      ]
     },
     "execution_count": 3,
     "metadata": {},
     "output_type": "execute_result"
    }
   ],
   "source": [
    "import numpy as np\n",
    "\n",
    "def weighted_moving_average(array, weights):\n",
    "\n",
    "    weights = np.flip(weights)\n",
    "\n",
    "    array_length = array.shape[0]\n",
    "\n",
    "    weights_length = weights.shape[0]\n",
    "\n",
    "    weight_sum = weights.sum()\n",
    "\n",
    "    numerator_array = np.array([\n",
    "            np.concatenate([\n",
    "                np.zeros(i), \n",
    "                array[0:array_length-i]\n",
    "            ]) for i in range(0, weights_length)]).T @ weights\n",
    "\n",
    "    denominator_array = np.concatenate([\n",
    "        np.array([\n",
    "            weights[0:i+1].sum() \n",
    "            for i in range(0, weights_length)\n",
    "        ]), \n",
    "        np.repeat(\n",
    "            weight_sum, \n",
    "            array_length-weights_length)\n",
    "    ])\n",
    "\n",
    "    return numerator_array/denominator_array\n",
    "\n",
    "array = np.array(range(1,10**6+1))\n",
    "\n",
    "weights = np.array([1,2,3,4,5,6,7,8,9,10])\n",
    "\n",
    "weighted_moving_average(array, weights)"
   ]
  },
  {
   "cell_type": "code",
   "execution_count": null,
   "id": "60cc82af-519c-4406-b946-e502ea13f1a3",
   "metadata": {},
   "outputs": [],
   "source": []
  }
 ],
 "metadata": {
  "kernelspec": {
   "display_name": "Python 3 (ipykernel)",
   "language": "python",
   "name": "python3"
  },
  "language_info": {
   "codemirror_mode": {
    "name": "ipython",
    "version": 3
   },
   "file_extension": ".py",
   "mimetype": "text/x-python",
   "name": "python",
   "nbconvert_exporter": "python",
   "pygments_lexer": "ipython3",
   "version": "3.8.10"
  }
 },
 "nbformat": 4,
 "nbformat_minor": 5
}
